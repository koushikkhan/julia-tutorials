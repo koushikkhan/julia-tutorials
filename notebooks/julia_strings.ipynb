{
 "cells": [
  {
   "attachments": {},
   "cell_type": "markdown",
   "metadata": {},
   "source": [
    "# Working with Strings in Julia"
   ]
  },
  {
   "attachments": {},
   "cell_type": "markdown",
   "metadata": {},
   "source": [
    "## Regular Expressions"
   ]
  },
  {
   "cell_type": "code",
   "execution_count": 2,
   "metadata": {},
   "outputs": [
    {
     "data": {
      "text/plain": [
       "\"myexamplemail@gmail.com is a registered email id for Tanmay. \\nHis mobile number is +91 9474385798. Rajeev is his friend, whose mobile number is 806-542-2361.\\nThey both work in a matrimonial company whose website is www.soulmate.com\""
      ]
     },
     "metadata": {},
     "output_type": "display_data"
    }
   ],
   "source": [
    "my_text = \"\"\"myexamplemail@gmail.com is a registered email id for Tanmay. \n",
    "                His mobile number is +91 9474385798. Rajeev is his friend, whose mobile number is 806-542-2361.\n",
    "                They both work in a matrimonial company whose website is www.soulmate.com\"\"\""
   ]
  },
  {
   "attachments": {},
   "cell_type": "markdown",
   "metadata": {},
   "source": [
    "We have to find entities like \"mobile numbers\", \"emails\" and \"website\" details from the above text"
   ]
  },
  {
   "cell_type": "code",
   "execution_count": 3,
   "metadata": {},
   "outputs": [
    {
     "data": {
      "text/plain": [
       "true"
      ]
     },
     "metadata": {},
     "output_type": "display_data"
    }
   ],
   "source": [
    "email_pattern = r\"\\w+\\@\\w+\\.\\w+\""
   ]
  },
  {
   "cell_type": "code",
   "execution_count": 4,
   "metadata": {},
   "outputs": [
    {
     "data": {
      "text/plain": [
       "true"
      ]
     },
     "metadata": {},
     "output_type": "display_data"
    }
   ],
   "source": [
    "# occursin tries to find whether a match for the given pattern occurs in the text\n",
    "occursin(email_pattern, my_text)"
   ]
  },
  {
   "cell_type": "code",
   "execution_count": 5,
   "metadata": {},
   "outputs": [
    {
     "data": {
      "text/plain": [
       "RegexMatch(\"myexamplemail@gmail.com\")"
      ]
     },
     "metadata": {},
     "output_type": "display_data"
    }
   ],
   "source": [
    "# match tries to find how a given patten got matched in the text\n",
    "match(email_pattern, my_text)"
   ]
  },
  {
   "attachments": {},
   "cell_type": "markdown",
   "metadata": {},
   "source": [
    "when match() finds a match for the given pattern, it returns a `RegexMatch` object, else it returns a special object called `nothing`. This `nothing` output can be tested easily via the code below."
   ]
  },
  {
   "cell_type": "code",
   "execution_count": 7,
   "metadata": {},
   "outputs": [
    {
     "name": "stdout",
     "output_type": "stream",
     "text": [
      "there is a match found for the given pattern, which is RegexMatch(\"myexamplemail@gmail.com\")\n"
     ]
    }
   ],
   "source": [
    "m = match(r\"\\w+\\@\\w+\\.\\w+\", my_text)\n",
    "if m === nothing\n",
    "    println(\"no match is found\")\n",
    "else\n",
    "    println(\"there is a match found for the given pattern, which is $(m)\")\n",
    "end"
   ]
  },
  {
   "cell_type": "code",
   "execution_count": null,
   "metadata": {},
   "outputs": [],
   "source": []
  }
 ],
 "metadata": {
  "kernelspec": {
   "display_name": "Julia 1.8.5",
   "language": "julia",
   "name": "julia-1.8"
  },
  "language_info": {
   "file_extension": ".jl",
   "mimetype": "application/julia",
   "name": "julia",
   "version": "1.8.5"
  },
  "orig_nbformat": 4
 },
 "nbformat": 4,
 "nbformat_minor": 2
}
