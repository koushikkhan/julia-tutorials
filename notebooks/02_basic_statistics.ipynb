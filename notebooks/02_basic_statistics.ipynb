{
 "cells": [
  {
   "cell_type": "markdown",
   "metadata": {},
   "source": [
    "# Statistics with Julia\n",
    "\n",
    "**Introduction**:\n",
    "\n",
    "In this notebook, we are specifically going to perform some univariate analysis using *Julia*. By working with this notebook, you are supposed to know about the required packages and functions provided by Julia for these basic statistical analyses.\n",
    "\n",
    "I assume that you have a working Julia environment with a moderate to good internet connection as you may have to download some of the packages mentioned over here.\n",
    "\n",
    "Note that, notebooks for this tutorial are available in my [GitHub repository](https://github.com/koushikkhan/julia-tutorials/)"
   ]
  },
  {
   "attachments": {},
   "cell_type": "markdown",
   "metadata": {},
   "source": [
    "## Handling Data "
   ]
  },
  {
   "cell_type": "code",
   "execution_count": null,
   "metadata": {},
   "outputs": [],
   "source": [
    "# creating dataframes\n",
    "\n"
   ]
  },
  {
   "cell_type": "code",
   "execution_count": 1,
   "metadata": {},
   "outputs": [],
   "source": []
  }
 ],
 "metadata": {
  "kernelspec": {
   "display_name": "Julia 1.8.5",
   "language": "julia",
   "name": "julia-1.8"
  },
  "language_info": {
   "file_extension": ".jl",
   "mimetype": "application/julia",
   "name": "julia",
   "version": "1.8.5"
  },
  "orig_nbformat": 4,
  "vscode": {
   "interpreter": {
    "hash": "4a6c56defaa07f0368d89279bbbdddaf803cada96db6a294d777190b0d34f3e8"
   }
  }
 },
 "nbformat": 4,
 "nbformat_minor": 2
}
