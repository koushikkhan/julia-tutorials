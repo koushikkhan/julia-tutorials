{
 "cells": [
  {
   "cell_type": "markdown",
   "metadata": {},
   "source": [
    "# Type System in Julia and their usages"
   ]
  },
  {
   "cell_type": "markdown",
   "metadata": {},
   "source": [
    "Julia can detect the type of the object as in other languages like R, Python etc., during the run time, but sometimes explicit mentions of the data type make the code lot more cleaner, unambiguous. Type declaration also makes the compilation faster as now the compiler doesn't have to infer the data type by its own.\n",
    "\n",
    "In Julia, type declaration of any object can be made by using the `::` operator, whereas the type of any object can be detected using the function `typeof()` . Let us see few examples below while using these."
   ]
  },
  {
   "cell_type": "code",
   "execution_count": 1,
   "metadata": {
    "tags": []
   },
   "outputs": [
    {
     "data": {
      "text/plain": [
       "Int64"
      ]
     },
     "execution_count": 1,
     "metadata": {},
     "output_type": "execute_result"
    }
   ],
   "source": [
    "# data types inferred by Julia compiler\n",
    "\n",
    "a = 10232\n",
    "typeof(a)"
   ]
  },
  {
   "cell_type": "code",
   "execution_count": 2,
   "metadata": {
    "tags": []
   },
   "outputs": [
    {
     "data": {
      "text/plain": [
       "Int64"
      ]
     },
     "execution_count": 2,
     "metadata": {},
     "output_type": "execute_result"
    }
   ],
   "source": [
    "# data types mentioned explicitly by the user\n",
    "\n",
    "b::Int64 = 10021\n",
    "typeof(b)"
   ]
  },
  {
   "cell_type": "markdown",
   "metadata": {},
   "source": [
    "Note that, both `a` and `b` are 64 bit integers, but the type of the former one detected by Julia and the type of the later on mentioned by the user."
   ]
  },
  {
   "cell_type": "markdown",
   "metadata": {},
   "source": [
    "# Abstract and Concrete Types"
   ]
  },
  {
   "cell_type": "markdown",
   "metadata": {},
   "source": [
    "Julia maintains a hierarchical structure of type system when playing with objects. \n",
    "\n",
    "This hierarchy has one root node and subsequently several parent and child nodes. A part of the actual hierarchy can be shown as below:\n",
    "\n",
    "<img style=\"float: center;\" src=\"../assets/figures/julia-type-hierarchy.png\">"
   ]
  },
  {
   "cell_type": "markdown",
   "metadata": {},
   "source": [
    "Note that, the datatype **Any** is the root node and **Number** is the child node of **Any**, which is in turn the parent node of **Number**. This parent-child relationships are denoted by the terms *supertype* and *subtype* respectively. \n",
    "\n",
    "So, for our example, **Number** is the subtype of **Any** and **Any** is the supertype of **Number**.\n",
    "\n",
    "Following the same way, we have `Int8`, `Int16`, `Int32`, `Int64`, `Int128`, `BigInt` as the subtypes of `Signed`.\n",
    "\n",
    "The types which are at the very low level of this hierarchy, or in other words, the types which are not having any subtypes are called *Concrete Types*. We create objects in our program which are of any of the concrete types.\n",
    "\n",
    "On the other hands, the types which are having subtypes like `Any`, `Number`, `Real`, `Integer`, `Signed` etc. are called *Abstract Types*.\n",
    "\n",
    "We can check the subtypes and supertypes of a given type, if exists, using the functions `subtypes()` and `supertypes` respectively. "
   ]
  },
  {
   "cell_type": "code",
   "execution_count": 3,
   "metadata": {
    "tags": []
   },
   "outputs": [
    {
     "data": {
      "text/plain": [
       "6-element Vector{Any}:\n",
       " BigInt\n",
       " Int128\n",
       " Int16\n",
       " Int32\n",
       " Int64\n",
       " Int8"
      ]
     },
     "execution_count": 3,
     "metadata": {},
     "output_type": "execute_result"
    }
   ],
   "source": [
    "# check subtypes of 'Signed'\n",
    "subtypes(Signed)"
   ]
  },
  {
   "cell_type": "code",
   "execution_count": 4,
   "metadata": {
    "tags": []
   },
   "outputs": [
    {
     "data": {
      "text/plain": [
       "(Signed, Integer, Real, Number, Any)"
      ]
     },
     "execution_count": 4,
     "metadata": {},
     "output_type": "execute_result"
    }
   ],
   "source": [
    "# check supertypes of 'Signed'\n",
    "supertypes(Signed)"
   ]
  },
  {
   "cell_type": "markdown",
   "metadata": {},
   "source": [
    "# Type Declaration for Various Objects"
   ]
  },
  {
   "cell_type": "markdown",
   "metadata": {},
   "source": [
    "## Notations\n",
    "\n",
    "+ `::` - when we want to specify that an object is of a specific type, `x::Int64`\n",
    "+ `<:` - when we want to specify that an object is of any subtypes of a specific type, `x<:Number`"
   ]
  },
  {
   "cell_type": "code",
   "execution_count": 5,
   "metadata": {
    "tags": []
   },
   "outputs": [
    {
     "data": {
      "text/plain": [
       "true"
      ]
     },
     "execution_count": 5,
     "metadata": {},
     "output_type": "execute_result"
    }
   ],
   "source": [
    "# is Int64 a subtype of Number ?\n",
    "Int64 <: Number"
   ]
  },
  {
   "cell_type": "code",
   "execution_count": 6,
   "metadata": {
    "tags": []
   },
   "outputs": [
    {
     "data": {
      "text/plain": [
       "false"
      ]
     },
     "execution_count": 6,
     "metadata": {},
     "output_type": "execute_result"
    }
   ],
   "source": [
    "# is Signed a supertype of Any ?\n",
    "Any <: Int64"
   ]
  },
  {
   "cell_type": "markdown",
   "metadata": {},
   "source": [
    "## Type Declaration"
   ]
  },
  {
   "cell_type": "markdown",
   "metadata": {},
   "source": [
    "While defining functions we can specify types of the arguments or type of the return value. The examples given below will make the concept clear. "
   ]
  },
  {
   "cell_type": "code",
   "execution_count": 9,
   "metadata": {
    "tags": []
   },
   "outputs": [
    {
     "data": {
      "text/plain": [
       "addition (generic function with 1 method)"
      ]
     },
     "execution_count": 9,
     "metadata": {},
     "output_type": "execute_result"
    }
   ],
   "source": [
    "# addtion of two 64 bit integers\n",
    "function addition(x::Int64, y::Int64)\n",
    "    r = x + y\n",
    "    return r\n",
    "end"
   ]
  },
  {
   "cell_type": "code",
   "execution_count": 10,
   "metadata": {
    "tags": []
   },
   "outputs": [
    {
     "data": {
      "text/plain": [
       "11"
      ]
     },
     "execution_count": 10,
     "metadata": {},
     "output_type": "execute_result"
    }
   ],
   "source": [
    "addition(5, 6)"
   ]
  },
  {
   "cell_type": "code",
   "execution_count": 11,
   "metadata": {
    "tags": []
   },
   "outputs": [
    {
     "ename": "LoadError",
     "evalue": "MethodError: no method matching addition(::Float64, ::Float64)",
     "output_type": "error",
     "traceback": [
      "MethodError: no method matching addition(::Float64, ::Float64)",
      "",
      "Stacktrace:",
      " [1] top-level scope",
      "   @ In[11]:5"
     ]
    }
   ],
   "source": [
    "# this function won't work if we try adding two floating point numbers\n",
    "# as we have explicitly specified argument types \n",
    "# we need to define one more method for additing tow floating point numbers\n",
    "\n",
    "addition(5.4, 6.3)"
   ]
  },
  {
   "cell_type": "code",
   "execution_count": 12,
   "metadata": {
    "tags": []
   },
   "outputs": [
    {
     "data": {
      "text/plain": [
       "addition (generic function with 2 methods)"
      ]
     },
     "execution_count": 12,
     "metadata": {},
     "output_type": "execute_result"
    }
   ],
   "source": [
    "function addition(x::Float64, y::Float64)\n",
    "    r = x + y\n",
    "    return r\n",
    "end"
   ]
  },
  {
   "cell_type": "code",
   "execution_count": 13,
   "metadata": {
    "tags": []
   },
   "outputs": [
    {
     "data": {
      "text/plain": [
       "11.7"
      ]
     },
     "execution_count": 13,
     "metadata": {},
     "output_type": "execute_result"
    }
   ],
   "source": [
    "addition(5.4, 6.3)"
   ]
  },
  {
   "cell_type": "markdown",
   "metadata": {},
   "source": [
    "But the same kind of operations can be performed by a single method if we specify the argument type as some type of which both `Int64` and `Float64` are subtypes. Let's see how this will work."
   ]
  },
  {
   "cell_type": "code",
   "execution_count": 14,
   "metadata": {
    "tags": []
   },
   "outputs": [
    {
     "data": {
      "text/plain": [
       "addition (generic function with 3 methods)"
      ]
     },
     "execution_count": 14,
     "metadata": {},
     "output_type": "execute_result"
    }
   ],
   "source": [
    "function addition(x::Real, y::Real)\n",
    "    println(\"both of the args are of Real types\")\n",
    "    r = x + y\n",
    "    return r\n",
    "end"
   ]
  },
  {
   "cell_type": "code",
   "execution_count": 15,
   "metadata": {
    "tags": []
   },
   "outputs": [
    {
     "data": {
      "text/plain": [
       "11"
      ]
     },
     "execution_count": 15,
     "metadata": {},
     "output_type": "execute_result"
    }
   ],
   "source": [
    "# working with integers\n",
    "addition(5, 6)"
   ]
  },
  {
   "cell_type": "code",
   "execution_count": 16,
   "metadata": {
    "tags": []
   },
   "outputs": [
    {
     "data": {
      "text/plain": [
       "11.7"
      ]
     },
     "execution_count": 16,
     "metadata": {},
     "output_type": "execute_result"
    }
   ],
   "source": [
    "# working with floats\n",
    "addition(5.4, 6.3)"
   ]
  },
  {
   "cell_type": "markdown",
   "metadata": {},
   "source": [
    "When a type if not explicitly mentioned for an argument, Julia will assign the type **Any** for it as the default type. **Any** is nothing but the root node in the type hierarchy."
   ]
  },
  {
   "cell_type": "markdown",
   "metadata": {},
   "source": [
    "Type declaration can also be made for the return value of a function. In the example below, we are defining a function, named `my_func` which takes an argument `x`. \n",
    "\n",
    "There is no type declaration made for `x`, rather we have declared type for the return value right after the parenthesis. This function here tries to return a Float64 object irrespective of what we pass as value."
   ]
  },
  {
   "cell_type": "code",
   "execution_count": 17,
   "metadata": {
    "tags": []
   },
   "outputs": [
    {
     "data": {
      "text/plain": [
       "my_func (generic function with 1 method)"
      ]
     },
     "execution_count": 17,
     "metadata": {},
     "output_type": "execute_result"
    }
   ],
   "source": [
    "function my_func(x)::Float64\n",
    "    return x\n",
    "end"
   ]
  },
  {
   "cell_type": "code",
   "execution_count": 18,
   "metadata": {
    "tags": []
   },
   "outputs": [
    {
     "data": {
      "text/plain": [
       "1.0"
      ]
     },
     "execution_count": 18,
     "metadata": {},
     "output_type": "execute_result"
    }
   ],
   "source": [
    "my_func(1)"
   ]
  },
  {
   "cell_type": "markdown",
   "metadata": {},
   "source": [
    "We have passed `x=1`, which is of type Int64, but the function has converted it to a Float64 type object."
   ]
  },
  {
   "cell_type": "markdown",
   "metadata": {},
   "source": [
    "An explicit check of the argument type can be made inside the function. If the expected type is not matched with the given type, an exception will be thrown."
   ]
  },
  {
   "cell_type": "code",
   "execution_count": 20,
   "metadata": {
    "tags": []
   },
   "outputs": [
    {
     "data": {
      "text/plain": [
       "my_func_2 (generic function with 1 method)"
      ]
     },
     "execution_count": 20,
     "metadata": {},
     "output_type": "execute_result"
    }
   ],
   "source": [
    "function my_func_2(x)\n",
    "    x::Float64\n",
    "    return x\n",
    "end"
   ]
  },
  {
   "cell_type": "code",
   "execution_count": 21,
   "metadata": {
    "tags": []
   },
   "outputs": [
    {
     "ename": "LoadError",
     "evalue": "TypeError: in typeassert, expected Float64, got a value of type Int64",
     "output_type": "error",
     "traceback": [
      "TypeError: in typeassert, expected Float64, got a value of type Int64",
      "",
      "Stacktrace:",
      " [1] my_func_2(x::Int64)",
      "   @ Main ./In[20]:2",
      " [2] top-level scope",
      "   @ In[21]:1"
     ]
    }
   ],
   "source": [
    "my_func_2(1)"
   ]
  },
  {
   "cell_type": "markdown",
   "metadata": {},
   "source": [
    "In the above example, x is suppoed to be a Float64 as specified inside the function, but we have passed an integer (Int64) as a value of x"
   ]
  },
  {
   "cell_type": "markdown",
   "metadata": {},
   "source": [
    "## Type Unions"
   ]
  },
  {
   "cell_type": "markdown",
   "metadata": {},
   "source": [
    "When we want to have several types attached to an object, we use type unions. An example will make the concept clear. Unioning types can be made using the build-in function `Union()`.\n",
    "\n",
    "In the example below, the agrument x can be either of type Integer or of type String."
   ]
  },
  {
   "cell_type": "code",
   "execution_count": 26,
   "metadata": {
    "tags": []
   },
   "outputs": [
    {
     "data": {
      "text/plain": [
       "my_func_3 (generic function with 1 method)"
      ]
     },
     "execution_count": 26,
     "metadata": {},
     "output_type": "execute_result"
    }
   ],
   "source": [
    "function my_func_3(x::Union{Integer, String})\n",
    "    println(\"x is of type $(typeof(x))\")\n",
    "    x = x^2\n",
    "end"
   ]
  },
  {
   "cell_type": "code",
   "execution_count": 27,
   "metadata": {
    "tags": []
   },
   "outputs": [
    {
     "name": "stdout",
     "output_type": "stream",
     "text": [
      "x is of type Int64\n"
     ]
    },
    {
     "data": {
      "text/plain": [
       "100"
      ]
     },
     "execution_count": 27,
     "metadata": {},
     "output_type": "execute_result"
    }
   ],
   "source": [
    "# when x is of type Integer\n",
    "my_func_3(10)"
   ]
  },
  {
   "cell_type": "code",
   "execution_count": 28,
   "metadata": {
    "tags": []
   },
   "outputs": [
    {
     "name": "stdout",
     "output_type": "stream",
     "text": [
      "x is of type String\n"
     ]
    },
    {
     "data": {
      "text/plain": [
       "\"AppleApple\""
      ]
     },
     "execution_count": 28,
     "metadata": {},
     "output_type": "execute_result"
    }
   ],
   "source": [
    "# when x is of type String\n",
    "my_func_3(\"Apple\")"
   ]
  },
  {
   "cell_type": "code",
   "execution_count": 30,
   "metadata": {
    "tags": []
   },
   "outputs": [],
   "source": [
    "# check if x is of type Float64\n",
    "# my_func_3(5.6)"
   ]
  },
  {
   "cell_type": "markdown",
   "metadata": {},
   "source": [
    "## Crating Composite Types"
   ]
  },
  {
   "cell_type": "markdown",
   "metadata": {},
   "source": [
    "Composite types are useful when we need to store several attributes of an object at the same time. For example, we may want to store information about a book to create a library system. A book can have attributes like `name`, `author`, `publisher`, `isbn` and `price`. It is going to be very useful, if we can bind all these attributes to a single object while describing a book in our program.\n",
    "\n",
    "Let's see, how we can create an object to refer a book."
   ]
  },
  {
   "cell_type": "code",
   "execution_count": 32,
   "metadata": {
    "tags": []
   },
   "outputs": [],
   "source": [
    "struct Book\n",
    "    name::String\n",
    "    author::String\n",
    "    publisher::String\n",
    "    isbn::String\n",
    "    price::Float64\n",
    "end"
   ]
  },
  {
   "cell_type": "markdown",
   "metadata": {},
   "source": [
    "The above code listing creates something what is called a **Struct**, which can be defined by the keyword `struct`. Structs are mainly used for creating custom data types, just like a book as we have referred. The attributes of this book are typically described by premitive data types like `String`, `Integer`, `Float` etc., while the book itself is a composite data type. \n",
    "\n",
    "Struct basically defines the template, of which real objects can be made in the program. \n",
    "\n",
    "Now, let's define a book."
   ]
  },
  {
   "cell_type": "code",
   "execution_count": 33,
   "metadata": {
    "tags": []
   },
   "outputs": [
    {
     "data": {
      "text/plain": [
       "Book(\"The Julia Book\", \"Koushik\", \"ABC Publishing Company\", \"111XBHFKO9WNDN\", 230.0)"
      ]
     },
     "execution_count": 33,
     "metadata": {},
     "output_type": "execute_result"
    }
   ],
   "source": [
    "book1 = Book(\"The Julia Book\", \"Koushik\", \"ABC Publishing Company\", \"111XBHFKO9WNDN\", 230.00)"
   ]
  },
  {
   "cell_type": "markdown",
   "metadata": {
    "tags": []
   },
   "source": [
    "After creating our real book, we may want to access the attributes of it. This can be done using the `.` operator as shown below:"
   ]
  },
  {
   "cell_type": "code",
   "execution_count": 37,
   "metadata": {
    "tags": []
   },
   "outputs": [
    {
     "name": "stdout",
     "output_type": "stream",
     "text": [
      "The Julia Book\n",
      "230.0\n",
      "Koushik\n"
     ]
    }
   ],
   "source": [
    "println(book1.name)\n",
    "println(book1.price)\n",
    "println(book1.author)"
   ]
  },
  {
   "cell_type": "markdown",
   "metadata": {},
   "source": [
    "This is to be noted that once an object is created using a defined struct, values of it's attributes cannot be modified, that means by default `struct` will give us an immutable object.\n",
    "\n",
    "Now we will define functions to work on custom data types. Let's say we want to convert book price from INR to USD."
   ]
  },
  {
   "cell_type": "code",
   "execution_count": 54,
   "metadata": {
    "tags": []
   },
   "outputs": [
    {
     "data": {
      "text/plain": [
       "convert_book_price_to_usd (generic function with 1 method)"
      ]
     },
     "execution_count": 54,
     "metadata": {},
     "output_type": "execute_result"
    }
   ],
   "source": [
    "function convert_book_price_to_usd(book::Book, convertion_factor::Float64)\n",
    "    price_usd = convertion_factor * book.price\n",
    "    return round(price_usd)\n",
    "end"
   ]
  },
  {
   "cell_type": "code",
   "execution_count": 55,
   "metadata": {
    "tags": []
   },
   "outputs": [
    {
     "name": "stdout",
     "output_type": "stream",
     "text": [
      "Book price in USD: 2.0 $\n"
     ]
    }
   ],
   "source": [
    "println(\"Book price in USD: $(convert_book_price_to_usd(book1, 0.01)) \\$\")"
   ]
  },
  {
   "cell_type": "markdown",
   "metadata": {},
   "source": [
    "## Parametric Types"
   ]
  },
  {
   "cell_type": "markdown",
   "metadata": {},
   "source": [
    "Parametric Types are basically composite types whose type declaration is controlled by parameters. Let's see one example below."
   ]
  },
  {
   "cell_type": "code",
   "execution_count": 56,
   "metadata": {
    "tags": []
   },
   "outputs": [],
   "source": [
    "struct Point{my_type}\n",
    "    x::my_type\n",
    "    y::my_type\n",
    "end"
   ]
  },
  {
   "cell_type": "code",
   "execution_count": 63,
   "metadata": {
    "tags": []
   },
   "outputs": [
    {
     "name": "stdout",
     "output_type": "stream",
     "text": [
      "Point{Int64}(2, 3)\n",
      "Point{Float64}(2.5, 3.5)\n"
     ]
    }
   ],
   "source": [
    "# when data type is implicit (inferred from given values)\n",
    "x1 = Point(2, 3)\n",
    "println(x1)\n",
    "\n",
    "x2 = Point(2.5, 3.5)\n",
    "println(x2)"
   ]
  },
  {
   "cell_type": "code",
   "execution_count": 64,
   "metadata": {
    "tags": []
   },
   "outputs": [
    {
     "name": "stdout",
     "output_type": "stream",
     "text": [
      "Point{String}(\"a\", \"b\")\n"
     ]
    }
   ],
   "source": [
    "# when data type is implicit (inferred from given values)\n",
    "x3 = Point{String}(\"a\", \"b\")\n",
    "println(x3)"
   ]
  },
  {
   "cell_type": "markdown",
   "metadata": {},
   "source": [
    "Note that, name of the type parameter in the struct i.e. `my_type` here, can be anything, but usually it is written as `T`. Hence it is a good practice to rewrite the same struct as below\n",
    "\n",
    "```julia\n",
    "struct Point{T}\n",
    "    x::T\n",
    "    y::T\n",
    "end\n",
    "```\n",
    "\n",
    "Let's define functions to calculate norm (distance from origin)."
   ]
  },
  {
   "cell_type": "code",
   "execution_count": 73,
   "metadata": {
    "tags": []
   },
   "outputs": [
    {
     "data": {
      "text/plain": [
       "norm (generic function with 2 methods)"
      ]
     },
     "execution_count": 73,
     "metadata": {},
     "output_type": "execute_result"
    }
   ],
   "source": [
    "# redefine Point\n",
    "# struct Point{T}\n",
    "#     x::T\n",
    "#     y::T\n",
    "# end\n",
    "\n",
    "# define methods to operate on Point\n",
    "function norm(p::Point{<:Real})\n",
    "    r = √(p.x ^ 2 + p.y ^ 2)\n",
    "    return r\n",
    "end\n",
    "\n",
    "function norm(p::Point{String})\n",
    "    r = \"sqrt($(p.x)^2 + $(p.y)^2)\"\n",
    "    return r\n",
    "end"
   ]
  },
  {
   "cell_type": "code",
   "execution_count": 75,
   "metadata": {
    "tags": []
   },
   "outputs": [
    {
     "data": {
      "text/plain": [
       "5.0"
      ]
     },
     "execution_count": 75,
     "metadata": {},
     "output_type": "execute_result"
    }
   ],
   "source": [
    "# when Point is expressed numerically\n",
    "norm(Point(3,4))"
   ]
  },
  {
   "cell_type": "code",
   "execution_count": 76,
   "metadata": {
    "tags": []
   },
   "outputs": [
    {
     "data": {
      "text/plain": [
       "\"sqrt(a^2 + b^2)\""
      ]
     },
     "execution_count": 76,
     "metadata": {},
     "output_type": "execute_result"
    }
   ],
   "source": [
    "# when Point is expressed symbolically\n",
    "norm(Point(\"a\", \"b\"))"
   ]
  },
  {
   "cell_type": "markdown",
   "metadata": {},
   "source": [
    "An important point to note here is that, we have defined two functions both having name as `norm`. First one is suppsed to work with Points which are of `Real` type and second one is supposed to give us symbolic calculation of norm. Both these versions are called `methods` in julia.\n",
    "\n",
    "Julia is smart enough to choose the right method when we pass an argument to the method call. This is what is known as *multiple dispatch*. \n",
    "\n",
    "We can use the build-in function `methods` to know what all versions (methods) are available for a specific function."
   ]
  },
  {
   "cell_type": "code",
   "execution_count": 78,
   "metadata": {
    "tags": []
   },
   "outputs": [
    {
     "data": {
      "text/html": [
       "# 2 methods for generic function <b>norm</b>:<ul><li> norm(p::<b>Point{<:Real}</b>) in Main at In[73]:8</li> <li> norm(p::<b>Point{String}</b>) in Main at In[73]:13</li> </ul>"
      ],
      "text/plain": [
       "# 2 methods for generic function \"norm\":\n",
       "[1] norm(p::Point{<:Real}) in Main at In[73]:8\n",
       "[2] norm(p::Point{String}) in Main at In[73]:13"
      ]
     },
     "execution_count": 78,
     "metadata": {},
     "output_type": "execute_result"
    }
   ],
   "source": [
    "methods(norm)"
   ]
  },
  {
   "cell_type": "code",
   "execution_count": null,
   "metadata": {},
   "outputs": [],
   "source": []
  }
 ],
 "metadata": {
  "kernelspec": {
   "display_name": "Julia 1.8.5",
   "language": "julia",
   "name": "julia-1.8"
  },
  "language_info": {
   "file_extension": ".jl",
   "mimetype": "application/julia",
   "name": "julia",
   "version": "1.8.5"
  }
 },
 "nbformat": 4,
 "nbformat_minor": 4
}
