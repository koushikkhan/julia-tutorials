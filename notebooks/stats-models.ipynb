{
 "cells": [
  {
   "cell_type": "markdown",
   "id": "6dfb0e5e-f489-47f3-9c30-68b7bec1b83b",
   "metadata": {},
   "source": [
    "# Statistical Models in Julia"
   ]
  },
  {
   "cell_type": "code",
   "execution_count": 1,
   "id": "d37412d5-8fc2-4cc6-abc4-eef14076bc81",
   "metadata": {
    "tags": []
   },
   "outputs": [
    {
     "name": "stderr",
     "output_type": "stream",
     "text": [
      "\u001b[36m\u001b[1m[ \u001b[22m\u001b[39m\u001b[36m\u001b[1mInfo: \u001b[22m\u001b[39mPrecompiling StatsModels [3eaba693-59b7-5ba5-a881-562e759f1c8d]\n"
     ]
    }
   ],
   "source": [
    "using StatsModels, DataFrames"
   ]
  },
  {
   "cell_type": "code",
   "execution_count": 3,
   "id": "bc4c4b76-aed9-4222-acd6-e1d3b0748ee8",
   "metadata": {
    "tags": []
   },
   "outputs": [],
   "source": [
    "using StableRNGs; rng = StableRNG(1);"
   ]
  },
  {
   "cell_type": "code",
   "execution_count": 7,
   "id": "2b09cf19-29ec-450a-8294-5695c6c69c40",
   "metadata": {
    "tags": []
   },
   "outputs": [],
   "source": [
    "data = DataFrame(a = rand(rng, 100), b = repeat([\"d\", \"e\", \"f\", \"g\"], 25));"
   ]
  },
  {
   "cell_type": "code",
   "execution_count": 10,
   "id": "9fe499a8-b275-4ee7-91f7-a649d0324947",
   "metadata": {
    "tags": []
   },
   "outputs": [
    {
     "data": {
      "text/html": [
       "<div><div style = \"float: left;\"><span>100×2 DataFrame</span></div><div style = \"float: right;\"><span style = \"font-style: italic;\">75 rows omitted</span></div><div style = \"clear: both;\"></div></div><div class = \"data-frame\" style = \"overflow-x: scroll;\"><table class = \"data-frame\" style = \"margin-bottom: 6px;\"><thead><tr class = \"header\"><th class = \"rowNumber\" style = \"font-weight: bold; text-align: right;\">Row</th><th style = \"text-align: left;\">a</th><th style = \"text-align: left;\">b</th></tr><tr class = \"subheader headerLastRow\"><th class = \"rowNumber\" style = \"font-weight: bold; text-align: right;\"></th><th title = \"Float64\" style = \"text-align: left;\">Float64</th><th title = \"String\" style = \"text-align: left;\">String</th></tr></thead><tbody><tr><td class = \"rowNumber\" style = \"font-weight: bold; text-align: right;\">1</td><td style = \"text-align: right;\">0.585195</td><td style = \"text-align: left;\">d</td></tr><tr><td class = \"rowNumber\" style = \"font-weight: bold; text-align: right;\">2</td><td style = \"text-align: right;\">0.0773379</td><td style = \"text-align: left;\">e</td></tr><tr><td class = \"rowNumber\" style = \"font-weight: bold; text-align: right;\">3</td><td style = \"text-align: right;\">0.716628</td><td style = \"text-align: left;\">f</td></tr><tr><td class = \"rowNumber\" style = \"font-weight: bold; text-align: right;\">4</td><td style = \"text-align: right;\">0.320357</td><td style = \"text-align: left;\">g</td></tr><tr><td class = \"rowNumber\" style = \"font-weight: bold; text-align: right;\">5</td><td style = \"text-align: right;\">0.653093</td><td style = \"text-align: left;\">d</td></tr><tr><td class = \"rowNumber\" style = \"font-weight: bold; text-align: right;\">6</td><td style = \"text-align: right;\">0.236639</td><td style = \"text-align: left;\">e</td></tr><tr><td class = \"rowNumber\" style = \"font-weight: bold; text-align: right;\">7</td><td style = \"text-align: right;\">0.709684</td><td style = \"text-align: left;\">f</td></tr><tr><td class = \"rowNumber\" style = \"font-weight: bold; text-align: right;\">8</td><td style = \"text-align: right;\">0.557787</td><td style = \"text-align: left;\">g</td></tr><tr><td class = \"rowNumber\" style = \"font-weight: bold; text-align: right;\">9</td><td style = \"text-align: right;\">0.05079</td><td style = \"text-align: left;\">d</td></tr><tr><td class = \"rowNumber\" style = \"font-weight: bold; text-align: right;\">10</td><td style = \"text-align: right;\">0.236782</td><td style = \"text-align: left;\">e</td></tr><tr><td class = \"rowNumber\" style = \"font-weight: bold; text-align: right;\">11</td><td style = \"text-align: right;\">0.943741</td><td style = \"text-align: left;\">f</td></tr><tr><td class = \"rowNumber\" style = \"font-weight: bold; text-align: right;\">12</td><td style = \"text-align: right;\">0.445671</td><td style = \"text-align: left;\">g</td></tr><tr><td class = \"rowNumber\" style = \"font-weight: bold; text-align: right;\">13</td><td style = \"text-align: right;\">0.763679</td><td style = \"text-align: left;\">d</td></tr><tr><td style = \"text-align: right;\">&vellip;</td><td style = \"text-align: right;\">&vellip;</td><td style = \"text-align: right;\">&vellip;</td></tr><tr><td class = \"rowNumber\" style = \"font-weight: bold; text-align: right;\">89</td><td style = \"text-align: right;\">0.353296</td><td style = \"text-align: left;\">d</td></tr><tr><td class = \"rowNumber\" style = \"font-weight: bold; text-align: right;\">90</td><td style = \"text-align: right;\">0.907042</td><td style = \"text-align: left;\">e</td></tr><tr><td class = \"rowNumber\" style = \"font-weight: bold; text-align: right;\">91</td><td style = \"text-align: right;\">0.717283</td><td style = \"text-align: left;\">f</td></tr><tr><td class = \"rowNumber\" style = \"font-weight: bold; text-align: right;\">92</td><td style = \"text-align: right;\">0.851064</td><td style = \"text-align: left;\">g</td></tr><tr><td class = \"rowNumber\" style = \"font-weight: bold; text-align: right;\">93</td><td style = \"text-align: right;\">0.569462</td><td style = \"text-align: left;\">d</td></tr><tr><td class = \"rowNumber\" style = \"font-weight: bold; text-align: right;\">94</td><td style = \"text-align: right;\">0.906529</td><td style = \"text-align: left;\">e</td></tr><tr><td class = \"rowNumber\" style = \"font-weight: bold; text-align: right;\">95</td><td style = \"text-align: right;\">0.932768</td><td style = \"text-align: left;\">f</td></tr><tr><td class = \"rowNumber\" style = \"font-weight: bold; text-align: right;\">96</td><td style = \"text-align: right;\">0.77753</td><td style = \"text-align: left;\">g</td></tr><tr><td class = \"rowNumber\" style = \"font-weight: bold; text-align: right;\">97</td><td style = \"text-align: right;\">0.925382</td><td style = \"text-align: left;\">d</td></tr><tr><td class = \"rowNumber\" style = \"font-weight: bold; text-align: right;\">98</td><td style = \"text-align: right;\">0.937514</td><td style = \"text-align: left;\">e</td></tr><tr><td class = \"rowNumber\" style = \"font-weight: bold; text-align: right;\">99</td><td style = \"text-align: right;\">0.84156</td><td style = \"text-align: left;\">f</td></tr><tr><td class = \"rowNumber\" style = \"font-weight: bold; text-align: right;\">100</td><td style = \"text-align: right;\">0.466776</td><td style = \"text-align: left;\">g</td></tr></tbody></table></div>"
      ],
      "text/latex": [
       "\\begin{tabular}{r|cc}\n",
       "\t& a & b\\\\\n",
       "\t\\hline\n",
       "\t& Float64 & String\\\\\n",
       "\t\\hline\n",
       "\t1 & 0.585195 & d \\\\\n",
       "\t2 & 0.0773379 & e \\\\\n",
       "\t3 & 0.716628 & f \\\\\n",
       "\t4 & 0.320357 & g \\\\\n",
       "\t5 & 0.653093 & d \\\\\n",
       "\t6 & 0.236639 & e \\\\\n",
       "\t7 & 0.709684 & f \\\\\n",
       "\t8 & 0.557787 & g \\\\\n",
       "\t9 & 0.05079 & d \\\\\n",
       "\t10 & 0.236782 & e \\\\\n",
       "\t11 & 0.943741 & f \\\\\n",
       "\t12 & 0.445671 & g \\\\\n",
       "\t13 & 0.763679 & d \\\\\n",
       "\t14 & 0.145071 & e \\\\\n",
       "\t15 & 0.021124 & f \\\\\n",
       "\t16 & 0.152545 & g \\\\\n",
       "\t17 & 0.617492 & d \\\\\n",
       "\t18 & 0.481531 & e \\\\\n",
       "\t19 & 0.752223 & f \\\\\n",
       "\t20 & 0.314815 & g \\\\\n",
       "\t21 & 0.858522 & d \\\\\n",
       "\t22 & 0.698713 & e \\\\\n",
       "\t23 & 0.757746 & f \\\\\n",
       "\t24 & 0.419294 & g \\\\\n",
       "\t25 & 0.412607 & d \\\\\n",
       "\t26 & 0.454589 & e \\\\\n",
       "\t27 & 0.380933 & f \\\\\n",
       "\t28 & 0.808635 & g \\\\\n",
       "\t29 & 0.952897 & d \\\\\n",
       "\t30 & 0.872459 & e \\\\\n",
       "\t$\\dots$ & $\\dots$ & $\\dots$ \\\\\n",
       "\\end{tabular}\n"
      ],
      "text/plain": [
       "\u001b[1m100×2 DataFrame\u001b[0m\n",
       "\u001b[1m Row \u001b[0m│\u001b[1m a         \u001b[0m\u001b[1m b      \u001b[0m\n",
       "     │\u001b[90m Float64   \u001b[0m\u001b[90m String \u001b[0m\n",
       "─────┼───────────────────\n",
       "   1 │ 0.585195   d\n",
       "   2 │ 0.0773379  e\n",
       "   3 │ 0.716628   f\n",
       "   4 │ 0.320357   g\n",
       "   5 │ 0.653093   d\n",
       "   6 │ 0.236639   e\n",
       "   7 │ 0.709684   f\n",
       "   8 │ 0.557787   g\n",
       "   9 │ 0.05079    d\n",
       "  10 │ 0.236782   e\n",
       "  11 │ 0.943741   f\n",
       "  ⋮  │     ⋮        ⋮\n",
       "  91 │ 0.717283   f\n",
       "  92 │ 0.851064   g\n",
       "  93 │ 0.569462   d\n",
       "  94 │ 0.906529   e\n",
       "  95 │ 0.932768   f\n",
       "  96 │ 0.77753    g\n",
       "  97 │ 0.925382   d\n",
       "  98 │ 0.937514   e\n",
       "  99 │ 0.84156    f\n",
       " 100 │ 0.466776   g\n",
       "\u001b[36m          79 rows omitted\u001b[0m"
      ]
     },
     "execution_count": 10,
     "metadata": {},
     "output_type": "execute_result"
    }
   ],
   "source": [
    "data"
   ]
  },
  {
   "cell_type": "code",
   "execution_count": null,
   "id": "6034edce-41f5-4851-8727-818d1c261ab4",
   "metadata": {},
   "outputs": [],
   "source": []
  }
 ],
 "metadata": {
  "kernelspec": {
   "display_name": "Julia 1.8.5",
   "language": "julia",
   "name": "julia-1.8"
  },
  "language_info": {
   "file_extension": ".jl",
   "mimetype": "application/julia",
   "name": "julia",
   "version": "1.8.5"
  }
 },
 "nbformat": 4,
 "nbformat_minor": 5
}
