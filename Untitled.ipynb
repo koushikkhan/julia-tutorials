{
 "cells": [
  {
   "cell_type": "code",
   "execution_count": 4,
   "id": "e0717411-69b1-46ee-9139-bad2a0536735",
   "metadata": {
    "tags": []
   },
   "outputs": [
    {
     "data": {
      "text/plain": [
       "sinc (generic function with 2 methods)"
      ]
     },
     "execution_count": 4,
     "metadata": {},
     "output_type": "execute_result"
    }
   ],
   "source": [
    "function sinc(x::Int64)::Float64\n",
    "    println(\"x must be of type Int64\")\n",
    "    if x == 0\n",
    "        return 1\n",
    "    end\n",
    "    return sin(pi*x)/(pi*x)\n",
    "end\n",
    "\n",
    "function sinc(x)::Float64\n",
    "    println(\"x can be of type Any\")\n",
    "    if x == 0\n",
    "        return 1\n",
    "    end\n",
    "    return sin(pi*x)/(pi*x)\n",
    "end\n",
    "\n",
    "function sinc(x)::Int64\n",
    "    println(\"output will be of type Int64\")\n",
    "    if x == 0\n",
    "        return 1\n",
    "    end\n",
    "    return sin(pi*x)/(pi*x)\n",
    "end"
   ]
  },
  {
   "cell_type": "code",
   "execution_count": 5,
   "id": "fe24a134-7dfa-4f25-832a-1e7409915deb",
   "metadata": {
    "tags": []
   },
   "outputs": [
    {
     "data": {
      "text/html": [
       "# 2 methods for generic function <b>sinc</b>:<ul><li> sinc(x::<b>Int64</b>) in Main at In[4]:1</li> <li> sinc(x) in Main at In[4]:17</li> </ul>"
      ],
      "text/plain": [
       "# 2 methods for generic function \"sinc\":\n",
       "[1] sinc(x::Int64) in Main at In[4]:1\n",
       "[2] sinc(x) in Main at In[4]:17"
      ]
     },
     "execution_count": 5,
     "metadata": {},
     "output_type": "execute_result"
    }
   ],
   "source": [
    "methods(sinc)"
   ]
  },
  {
   "cell_type": "code",
   "execution_count": 6,
   "id": "4dbfa22e-d2c2-495b-ab25-522aca8fb8b7",
   "metadata": {
    "tags": []
   },
   "outputs": [
    {
     "name": "stdout",
     "output_type": "stream",
     "text": [
      "x must be of type Int64\n"
     ]
    },
    {
     "data": {
      "text/plain": [
       "3.8981718325193755e-17"
      ]
     },
     "execution_count": 6,
     "metadata": {},
     "output_type": "execute_result"
    }
   ],
   "source": [
    "sinc(1)"
   ]
  },
  {
   "cell_type": "code",
   "execution_count": 8,
   "id": "8b632338-14a2-4d0f-98ec-a6c39babd84b",
   "metadata": {
    "tags": []
   },
   "outputs": [],
   "source": [
    "struct Point{T}\n",
    "    x::T\n",
    "    y::T\n",
    "end"
   ]
  },
  {
   "cell_type": "code",
   "execution_count": null,
   "id": "ee375ffe-2cab-4189-bd30-094571ec0734",
   "metadata": {},
   "outputs": [],
   "source": [
    "Point{}"
   ]
  },
  {
   "cell_type": "code",
   "execution_count": null,
   "id": "116984f7-bccc-4f81-8764-90a0274ea07e",
   "metadata": {},
   "outputs": [],
   "source": [
    "function norm(p::Point)"
   ]
  }
 ],
 "metadata": {
  "kernelspec": {
   "display_name": "Julia 1.8.5",
   "language": "julia",
   "name": "julia-1.8"
  },
  "language_info": {
   "file_extension": ".jl",
   "mimetype": "application/julia",
   "name": "julia",
   "version": "1.8.5"
  }
 },
 "nbformat": 4,
 "nbformat_minor": 5
}
